{
 "cells": [
  {
   "cell_type": "code",
   "execution_count": null,
   "id": "graduate-trading",
   "metadata": {},
   "outputs": [],
   "source": [
    "name = input('Please enter your name: ')\n",
    "age = input('What is your age? ')\n",
    "age= int(age)\n",
    "if age < 20:\n",
    "    print('Child')"
    
    "if age >= 20 and age < 75:\n",
    "    print('Boomer')"
    "if age >= 75:\n",
    "    print('Old person')"
   ]
  }
 ],
 "metadata": {
  "kernelspec": {
   "display_name": "Python 3",
   "language": "python",
   "name": "python3"
  },
  "language_info": {
   "codemirror_mode": {
    "name": "ipython",
    "version": 3
   },
   "file_extension": ".py",
   "mimetype": "text/x-python",
   "name": "python",
   "nbconvert_exporter": "python",
   "pygments_lexer": "ipython3",
   "version": "3.7.9"
  }
 },
 "nbformat": 4,
 "nbformat_minor": 5
}
